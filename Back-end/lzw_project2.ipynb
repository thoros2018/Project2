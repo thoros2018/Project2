{
 "cells": [
  {
   "cell_type": "code",
   "execution_count": 217,
   "metadata": {},
   "outputs": [],
   "source": [
    "import sqlalchemy\n",
    "from sqlalchemy.ext.automap import automap_base\n",
    "from sqlalchemy.orm import Session\n",
    "from sqlalchemy import create_engine\n"
   ]
  },
  {
   "cell_type": "code",
   "execution_count": 218,
   "metadata": {},
   "outputs": [],
   "source": [
    "import pandas as pd"
   ]
  },
  {
   "cell_type": "markdown",
   "metadata": {},
   "source": [
    "## Create Dictionary for Compression Algorithm"
   ]
  },
  {
   "cell_type": "code",
   "execution_count": 292,
   "metadata": {},
   "outputs": [],
   "source": [
    "lyric= 'aaaaaaaaaaaaaaaaaaaaaaaaaaaaaaaaaaaaaaaaaaaaaaa'"
   ]
  },
  {
   "cell_type": "code",
   "execution_count": 271,
   "metadata": {},
   "outputs": [
    {
     "data": {
      "text/plain": [
       "{'\\x00': 0,\n",
       " '\\x01': 1,\n",
       " '\\x02': 2,\n",
       " '\\x03': 3,\n",
       " '\\x04': 4,\n",
       " '\\x05': 5,\n",
       " '\\x06': 6,\n",
       " '\\x07': 7,\n",
       " '\\x08': 8,\n",
       " '\\t': 9,\n",
       " '\\n': 10,\n",
       " '\\x0b': 11,\n",
       " '\\x0c': 12,\n",
       " '\\r': 13,\n",
       " '\\x0e': 14,\n",
       " '\\x0f': 15,\n",
       " '\\x10': 16,\n",
       " '\\x11': 17,\n",
       " '\\x12': 18,\n",
       " '\\x13': 19,\n",
       " '\\x14': 20,\n",
       " '\\x15': 21,\n",
       " '\\x16': 22,\n",
       " '\\x17': 23,\n",
       " '\\x18': 24,\n",
       " '\\x19': 25,\n",
       " '\\x1a': 26,\n",
       " '\\x1b': 27,\n",
       " '\\x1c': 28,\n",
       " '\\x1d': 29,\n",
       " '\\x1e': 30,\n",
       " '\\x1f': 31,\n",
       " ' ': 32,\n",
       " '!': 33,\n",
       " '\"': 34,\n",
       " '#': 35,\n",
       " '$': 36,\n",
       " '%': 37,\n",
       " '&': 38,\n",
       " \"'\": 39,\n",
       " '(': 40,\n",
       " ')': 41,\n",
       " '*': 42,\n",
       " '+': 43,\n",
       " ',': 44,\n",
       " '-': 45,\n",
       " '.': 46,\n",
       " '/': 47,\n",
       " '0': 48,\n",
       " '1': 49,\n",
       " '2': 50,\n",
       " '3': 51,\n",
       " '4': 52,\n",
       " '5': 53,\n",
       " '6': 54,\n",
       " '7': 55,\n",
       " '8': 56,\n",
       " '9': 57,\n",
       " ':': 58,\n",
       " ';': 59,\n",
       " '<': 60,\n",
       " '=': 61,\n",
       " '>': 62,\n",
       " '?': 63,\n",
       " '@': 64,\n",
       " 'A': 65,\n",
       " 'B': 66,\n",
       " 'C': 67,\n",
       " 'D': 68,\n",
       " 'E': 69,\n",
       " 'F': 70,\n",
       " 'G': 71,\n",
       " 'H': 72,\n",
       " 'I': 73,\n",
       " 'J': 74,\n",
       " 'K': 75,\n",
       " 'L': 76,\n",
       " 'M': 77,\n",
       " 'N': 78,\n",
       " 'O': 79,\n",
       " 'P': 80,\n",
       " 'Q': 81,\n",
       " 'R': 82,\n",
       " 'S': 83,\n",
       " 'T': 84,\n",
       " 'U': 85,\n",
       " 'V': 86,\n",
       " 'W': 87,\n",
       " 'X': 88,\n",
       " 'Y': 89,\n",
       " 'Z': 90,\n",
       " '[': 91,\n",
       " '\\\\': 92,\n",
       " ']': 93,\n",
       " '^': 94,\n",
       " '_': 95,\n",
       " '`': 96,\n",
       " 'a': 97,\n",
       " 'b': 98,\n",
       " 'c': 99,\n",
       " 'd': 100,\n",
       " 'e': 101,\n",
       " 'f': 102,\n",
       " 'g': 103,\n",
       " 'h': 104,\n",
       " 'i': 105,\n",
       " 'j': 106,\n",
       " 'k': 107,\n",
       " 'l': 108,\n",
       " 'm': 109,\n",
       " 'n': 110,\n",
       " 'o': 111,\n",
       " 'p': 112,\n",
       " 'q': 113,\n",
       " 'r': 114,\n",
       " 's': 115,\n",
       " 't': 116,\n",
       " 'u': 117,\n",
       " 'v': 118,\n",
       " 'w': 119,\n",
       " 'x': 120,\n",
       " 'y': 121,\n",
       " 'z': 122,\n",
       " '{': 123,\n",
       " '|': 124,\n",
       " '}': 125,\n",
       " '~': 126,\n",
       " '\\x7f': 127,\n",
       " '\\x80': 128,\n",
       " '\\x81': 129,\n",
       " '\\x82': 130,\n",
       " '\\x83': 131,\n",
       " '\\x84': 132,\n",
       " '\\x85': 133,\n",
       " '\\x86': 134,\n",
       " '\\x87': 135,\n",
       " '\\x88': 136,\n",
       " '\\x89': 137,\n",
       " '\\x8a': 138,\n",
       " '\\x8b': 139,\n",
       " '\\x8c': 140,\n",
       " '\\x8d': 141,\n",
       " '\\x8e': 142,\n",
       " '\\x8f': 143,\n",
       " '\\x90': 144,\n",
       " '\\x91': 145,\n",
       " '\\x92': 146,\n",
       " '\\x93': 147,\n",
       " '\\x94': 148,\n",
       " '\\x95': 149,\n",
       " '\\x96': 150,\n",
       " '\\x97': 151,\n",
       " '\\x98': 152,\n",
       " '\\x99': 153,\n",
       " '\\x9a': 154,\n",
       " '\\x9b': 155,\n",
       " '\\x9c': 156,\n",
       " '\\x9d': 157,\n",
       " '\\x9e': 158,\n",
       " '\\x9f': 159,\n",
       " '\\xa0': 160,\n",
       " '¡': 161,\n",
       " '¢': 162,\n",
       " '£': 163,\n",
       " '¤': 164,\n",
       " '¥': 165,\n",
       " '¦': 166,\n",
       " '§': 167,\n",
       " '¨': 168,\n",
       " '©': 169,\n",
       " 'ª': 170,\n",
       " '«': 171,\n",
       " '¬': 172,\n",
       " '\\xad': 173,\n",
       " '®': 174,\n",
       " '¯': 175,\n",
       " '°': 176,\n",
       " '±': 177,\n",
       " '²': 178,\n",
       " '³': 179,\n",
       " '´': 180,\n",
       " 'µ': 181,\n",
       " '¶': 182,\n",
       " '·': 183,\n",
       " '¸': 184,\n",
       " '¹': 185,\n",
       " 'º': 186,\n",
       " '»': 187,\n",
       " '¼': 188,\n",
       " '½': 189,\n",
       " '¾': 190,\n",
       " '¿': 191,\n",
       " 'À': 192,\n",
       " 'Á': 193,\n",
       " 'Â': 194,\n",
       " 'Ã': 195,\n",
       " 'Ä': 196,\n",
       " 'Å': 197,\n",
       " 'Æ': 198,\n",
       " 'Ç': 199,\n",
       " 'È': 200,\n",
       " 'É': 201,\n",
       " 'Ê': 202,\n",
       " 'Ë': 203,\n",
       " 'Ì': 204,\n",
       " 'Í': 205,\n",
       " 'Î': 206,\n",
       " 'Ï': 207,\n",
       " 'Ð': 208,\n",
       " 'Ñ': 209,\n",
       " 'Ò': 210,\n",
       " 'Ó': 211,\n",
       " 'Ô': 212,\n",
       " 'Õ': 213,\n",
       " 'Ö': 214,\n",
       " '×': 215,\n",
       " 'Ø': 216,\n",
       " 'Ù': 217,\n",
       " 'Ú': 218,\n",
       " 'Û': 219,\n",
       " 'Ü': 220,\n",
       " 'Ý': 221,\n",
       " 'Þ': 222,\n",
       " 'ß': 223,\n",
       " 'à': 224,\n",
       " 'á': 225,\n",
       " 'â': 226,\n",
       " 'ã': 227,\n",
       " 'ä': 228,\n",
       " 'å': 229,\n",
       " 'æ': 230,\n",
       " 'ç': 231,\n",
       " 'è': 232,\n",
       " 'é': 233,\n",
       " 'ê': 234,\n",
       " 'ë': 235,\n",
       " 'ì': 236,\n",
       " 'í': 237,\n",
       " 'î': 238,\n",
       " 'ï': 239,\n",
       " 'ð': 240,\n",
       " 'ñ': 241,\n",
       " 'ò': 242,\n",
       " 'ó': 243,\n",
       " 'ô': 244,\n",
       " 'õ': 245,\n",
       " 'ö': 246,\n",
       " '÷': 247,\n",
       " 'ø': 248,\n",
       " 'ù': 249,\n",
       " 'ú': 250,\n",
       " 'û': 251,\n",
       " 'ü': 252,\n",
       " 'ý': 253,\n",
       " 'þ': 254,\n",
       " 'ÿ': 255}"
      ]
     },
     "execution_count": 271,
     "metadata": {},
     "output_type": "execute_result"
    }
   ],
   "source": [
    "dict_size=256\n",
    "{chr(i): i for i in range(dict_size)}"
   ]
  },
  {
   "cell_type": "markdown",
   "metadata": {},
   "source": [
    "## Create compression Algorithm"
   ]
  },
  {
   "cell_type": "code",
   "execution_count": 293,
   "metadata": {
    "scrolled": false
   },
   "outputs": [
    {
     "name": "stdout",
     "output_type": "stream",
     "text": [
      "[97, 256, 257, 258, 259, 260, 261, 262, 263, 256]\n"
     ]
    }
   ],
   "source": [
    "\n",
    "#implement a Lempel-Ziv Welch Algorithm to identify the reoccuring patterns of a string\n",
    "#the more patterns within a lyric, the more it will be compressed\n",
    "def compress(uncompressed):\n",
    "    \"\"\"finds patterns within string and compresses the string to a list of integer symbols.\"\"\"\n",
    " \n",
    "    # Build the dictionary.\n",
    "    #codes from 0 to 255 represent 1-character sequences consisting of the corresponding 8-bit character, \n",
    "    dict_size = 256\n",
    "    #dictionary of char Unicode code points  \n",
    "    dictionary = {chr(i): i for i in range(dict_size)}\n",
    " \n",
    "    #start with an empty string\n",
    "    word = \"\"\n",
    "    result = []\n",
    "    #for every character in the string\n",
    "    for char in uncompressed:\n",
    "        try:\n",
    "        \n",
    "            #append the character to the empty string\n",
    "            word_char = word + char\n",
    "            #check to see if the characters are in the dictionary\n",
    "            if word_char in dictionary:\n",
    "                word = word_char\n",
    "            #if we have not seen this pattern before, add it to the dictionary\n",
    "            else:\n",
    "                result.append(dictionary[word])\n",
    "                # Add wc to the dictionary.\n",
    "                dictionary[word_char] = dict_size\n",
    "                dict_size += 1\n",
    "                word = char\n",
    "        except KeyError:\n",
    "                result.append(0)\n",
    "    # Output the code for w.\n",
    "    if word:\n",
    "        result.append(dictionary[word])\n",
    "#         try:\n",
    "#             result.append(dictionary[word])\n",
    "#         except KeyError:\n",
    "#             result.append(0)\n",
    "    return result\n",
    " \n",
    "  \n",
    "# How to use:\n",
    "compressed = compress(lyric)\n",
    "print (compressed)"
   ]
  },
  {
   "cell_type": "code",
   "execution_count": null,
   "metadata": {},
   "outputs": [],
   "source": []
  },
  {
   "cell_type": "code",
   "execution_count": 294,
   "metadata": {},
   "outputs": [],
   "source": [
    "#how many symbols are used to represent the compressed file\n",
    "compressed=(len(compressed))"
   ]
  },
  {
   "cell_type": "code",
   "execution_count": 295,
   "metadata": {},
   "outputs": [
    {
     "data": {
      "text/plain": [
       "10"
      ]
     },
     "execution_count": 295,
     "metadata": {},
     "output_type": "execute_result"
    }
   ],
   "source": [
    "compressed"
   ]
  },
  {
   "cell_type": "code",
   "execution_count": 296,
   "metadata": {},
   "outputs": [],
   "source": [
    "#how many symbols are used to represent the original file\n",
    "original_size=len(lyric)"
   ]
  },
  {
   "cell_type": "code",
   "execution_count": 297,
   "metadata": {},
   "outputs": [
    {
     "data": {
      "text/plain": [
       "47"
      ]
     },
     "execution_count": 297,
     "metadata": {},
     "output_type": "execute_result"
    }
   ],
   "source": [
    "original_size"
   ]
  },
  {
   "cell_type": "code",
   "execution_count": 298,
   "metadata": {},
   "outputs": [],
   "source": [
    "#the compression score is the percent of compressed size compared to the original file\n",
    "compressed_score= ((original_size-compressed)/(original_size))"
   ]
  },
  {
   "cell_type": "code",
   "execution_count": 299,
   "metadata": {},
   "outputs": [],
   "source": [
    "#the higher the compression score, the more repetative the lyrics"
   ]
  },
  {
   "cell_type": "code",
   "execution_count": 300,
   "metadata": {},
   "outputs": [
    {
     "data": {
      "text/plain": [
       "0.7872340425531915"
      ]
     },
     "execution_count": 300,
     "metadata": {},
     "output_type": "execute_result"
    }
   ],
   "source": [
    "compressed_score"
   ]
  },
  {
   "cell_type": "markdown",
   "metadata": {},
   "source": [
    "## Connect to lyricDatabase"
   ]
  },
  {
   "cell_type": "code",
   "execution_count": 220,
   "metadata": {},
   "outputs": [],
   "source": [
    "df = pd.read_sql_table(\"sample_metadata\",\"sqlite:///Resources/lyricsupdated.sqlite\")"
   ]
  },
  {
   "cell_type": "code",
   "execution_count": null,
   "metadata": {},
   "outputs": [],
   "source": [
    "## parse through each song's lyrics and attribute a compression score"
   ]
  },
  {
   "cell_type": "code",
   "execution_count": 281,
   "metadata": {},
   "outputs": [],
   "source": [
    "compression_list=[]"
   ]
  },
  {
   "cell_type": "code",
   "execution_count": 233,
   "metadata": {},
   "outputs": [
    {
     "data": {
      "text/plain": [
       "\"Every breath you take Every move you make Every bond you break Every step you take I'll be watching you Every single day Every word you say Every game you play Every night you stay I'll be watching you Oh can't you see You belong to me? How my poor heart aches with every step you take Every move you make Every vow you break Every smile you fake Every claim you stake I'll be watching you Since you've gone I've been lost without a trace I dream at night I can only see your face I look around but it's you I can't replace I feel so cold and I long for your embrace I keep crying baby baby please Oh can't you see You belong to me? How my poor heart aches with every step you take Every move you make Every vow you break Every smile you fake Every claim you stake I'll be watching you Every move you make Every step you take I'll be watching you I'll be watching you Every breath you take Every move you make Every bond you break Every step you take I'll be watching you Every single day Every word you say Every game you play Every night you stay I'll be watching you Every move you make Every vow you break Every smile you fake Every claim you stake I'll be watching you Every single day Every word you say Every game you play Every night you stay I'll be watching you Every breath you take Every move you make Every bond you break Every step you take I'll be watching you\""
      ]
     },
     "execution_count": 233,
     "metadata": {},
     "output_type": "execute_result"
    }
   ],
   "source": [
    "df.iloc[15][7]"
   ]
  },
  {
   "cell_type": "code",
   "execution_count": 230,
   "metadata": {},
   "outputs": [
    {
     "data": {
      "text/plain": [
       "486"
      ]
     },
     "execution_count": 230,
     "metadata": {},
     "output_type": "execute_result"
    }
   ],
   "source": [
    "len(compress(df.iloc[0][7]))"
   ]
  },
  {
   "cell_type": "code",
   "execution_count": 228,
   "metadata": {},
   "outputs": [
    {
     "data": {
      "text/plain": [
       "1137"
      ]
     },
     "execution_count": 228,
     "metadata": {},
     "output_type": "execute_result"
    }
   ],
   "source": [
    "len(df.iloc[0][7])"
   ]
  },
  {
   "cell_type": "code",
   "execution_count": 319,
   "metadata": {},
   "outputs": [],
   "source": [
    "def compressScorer(lyric):\n",
    "    lyric = lyric.encode()\n",
    "    lyric = str(lyric).lower().replace(\"\\\\\", \"\")\n",
    "    \n",
    "    \n",
    "    _cscore = compress(lyric)\n",
    "    \n",
    "    return len(_cscore)"
   ]
  },
  {
   "cell_type": "code",
   "execution_count": 320,
   "metadata": {},
   "outputs": [
    {
     "data": {
      "text/plain": [
       "\"Come on Does she walk? Does she talk? Does she come complete? My homeroom homeroom angel Always pulled me from my seat She was pure like snowflakes No one could ever stain The memory of my angel Could never cause me pain Years go by I'm lookin' through a girly magazine And there's my homeroom angel on the pages in between My blood runs cold My memory has just been sold My angel is the centerfold Angel is the centerfold My blood runs cold wooh My memory has just been sold Angel is the centerfold Slipped me notes under the desk While I was thinkin' about her dress I was shy I turned away Before she caught my eye I was shakin' in my shoes Whenever she flashed those baby blues Something had a hold on me When angel passed close by Those soft fuzzy sweaters Too magical to touch To see her in that neglig�e Is really just too much My blood runs cold Yeah my memory has just been sold My angel is the centerfold Angel is the centerfold My blood runs cold My memory has just been sold oh yeah Angel is the centerfold Na na na Yeah now listen It's okay I understand This ain't no Never Never Land I hope that when this issue's gone I'll see you when your clothes are on Take your car yes we will We'll take your car and drive it We'll take it to a motel room And take 'em off in private A part of me has just been ripped The pages from my mind are stripped Oh no I can't deny it Oh yeah I guess I gotta buy it My blood runs cold My memory has just been sold My angel is the centerfold Angel is the centerfold My blood runs cold wooh My memory has just been sold My angel is the centerfold Na na na Alright alright 1 2 3 4 Na na na My blood runs cold My memory has just been sold My angel is the centerfold Angel is the centerfold My blood runs cold oh yeah My memory has just been sold My angel is the centerfold Angel is the centerfold\""
      ]
     },
     "execution_count": 320,
     "metadata": {},
     "output_type": "execute_result"
    }
   ],
   "source": [
    "df.iloc[14][\"Lyrics\"]"
   ]
  },
  {
   "cell_type": "code",
   "execution_count": 321,
   "metadata": {},
   "outputs": [
    {
     "data": {
      "text/plain": [
       "801"
      ]
     },
     "execution_count": 321,
     "metadata": {},
     "output_type": "execute_result"
    }
   ],
   "source": [
    "compressScorer(df.iloc[14][\"Lyrics\"])"
   ]
  },
  {
   "cell_type": "code",
   "execution_count": 323,
   "metadata": {},
   "outputs": [],
   "source": [
    "df[\"compress_len\"] = df.apply(lambda row: compressScorer(row.Lyrics), axis=1)"
   ]
  },
  {
   "cell_type": "code",
   "execution_count": 325,
   "metadata": {},
   "outputs": [],
   "source": [
    "df[\"original_len\"] = df.apply(lambda row: len(row.Lyrics), axis=1)"
   ]
  },
  {
   "cell_type": "code",
   "execution_count": 327,
   "metadata": {},
   "outputs": [],
   "source": [
    "df[\"compress_score\"] = (df.original_len - df.compress_len) / df.original_len"
   ]
  },
  {
   "cell_type": "code",
   "execution_count": 328,
   "metadata": {},
   "outputs": [
    {
     "data": {
      "text/html": [
       "<div>\n",
       "<style scoped>\n",
       "    .dataframe tbody tr th:only-of-type {\n",
       "        vertical-align: middle;\n",
       "    }\n",
       "\n",
       "    .dataframe tbody tr th {\n",
       "        vertical-align: top;\n",
       "    }\n",
       "\n",
       "    .dataframe thead th {\n",
       "        text-align: right;\n",
       "    }\n",
       "</style>\n",
       "<table border=\"1\" class=\"dataframe\">\n",
       "  <thead>\n",
       "    <tr style=\"text-align: right;\">\n",
       "      <th></th>\n",
       "      <th>sample</th>\n",
       "      <th>Artist</th>\n",
       "      <th>Song</th>\n",
       "      <th>Genre</th>\n",
       "      <th>Year</th>\n",
       "      <th>Decade</th>\n",
       "      <th>Era</th>\n",
       "      <th>Lyrics</th>\n",
       "      <th>compress_len</th>\n",
       "      <th>original_len</th>\n",
       "      <th>compress_score</th>\n",
       "    </tr>\n",
       "  </thead>\n",
       "  <tbody>\n",
       "    <tr>\n",
       "      <th>0</th>\n",
       "      <td>1</td>\n",
       "      <td>Blondie</td>\n",
       "      <td>Call Me</td>\n",
       "      <td>Rock</td>\n",
       "      <td>1980</td>\n",
       "      <td>1980's</td>\n",
       "      <td>Early 80's</td>\n",
       "      <td>Colour me your colour baby Colour me your car ...</td>\n",
       "      <td>461</td>\n",
       "      <td>1137</td>\n",
       "      <td>0.594547</td>\n",
       "    </tr>\n",
       "    <tr>\n",
       "      <th>1</th>\n",
       "      <td>2</td>\n",
       "      <td>Pink Floyd</td>\n",
       "      <td>Another Brick In The Wall</td>\n",
       "      <td>Rock</td>\n",
       "      <td>1980</td>\n",
       "      <td>1980's</td>\n",
       "      <td>Early 80's</td>\n",
       "      <td>We don't need no education We don't need no th...</td>\n",
       "      <td>399</td>\n",
       "      <td>898</td>\n",
       "      <td>0.555679</td>\n",
       "    </tr>\n",
       "    <tr>\n",
       "      <th>2</th>\n",
       "      <td>3</td>\n",
       "      <td>Olivia Newton-John</td>\n",
       "      <td>Magic</td>\n",
       "      <td>Rock</td>\n",
       "      <td>1980</td>\n",
       "      <td>1980's</td>\n",
       "      <td>Early 80's</td>\n",
       "      <td>Come take my hand You should know me I've alwa...</td>\n",
       "      <td>439</td>\n",
       "      <td>889</td>\n",
       "      <td>0.506187</td>\n",
       "    </tr>\n",
       "    <tr>\n",
       "      <th>3</th>\n",
       "      <td>4</td>\n",
       "      <td>Michael Jackson</td>\n",
       "      <td>Rock With You</td>\n",
       "      <td>R&amp;B</td>\n",
       "      <td>1980</td>\n",
       "      <td>1980's</td>\n",
       "      <td>Early 80's</td>\n",
       "      <td>Girl close your eyes Let that rhythm get into ...</td>\n",
       "      <td>481</td>\n",
       "      <td>1044</td>\n",
       "      <td>0.539272</td>\n",
       "    </tr>\n",
       "    <tr>\n",
       "      <th>4</th>\n",
       "      <td>5</td>\n",
       "      <td>Bette Midler</td>\n",
       "      <td>The Rose</td>\n",
       "      <td>Pop</td>\n",
       "      <td>1980</td>\n",
       "      <td>1980's</td>\n",
       "      <td>Early 80's</td>\n",
       "      <td>Some say Love It is a river That drowns the te...</td>\n",
       "      <td>370</td>\n",
       "      <td>700</td>\n",
       "      <td>0.471429</td>\n",
       "    </tr>\n",
       "  </tbody>\n",
       "</table>\n",
       "</div>"
      ],
      "text/plain": [
       "   sample              Artist                       Song Genre  Year  Decade  \\\n",
       "0       1             Blondie                    Call Me  Rock  1980  1980's   \n",
       "1       2          Pink Floyd  Another Brick In The Wall  Rock  1980  1980's   \n",
       "2       3  Olivia Newton-John                      Magic  Rock  1980  1980's   \n",
       "3       4     Michael Jackson              Rock With You   R&B  1980  1980's   \n",
       "4       5        Bette Midler                   The Rose   Pop  1980  1980's   \n",
       "\n",
       "          Era                                             Lyrics  \\\n",
       "0  Early 80's  Colour me your colour baby Colour me your car ...   \n",
       "1  Early 80's  We don't need no education We don't need no th...   \n",
       "2  Early 80's  Come take my hand You should know me I've alwa...   \n",
       "3  Early 80's  Girl close your eyes Let that rhythm get into ...   \n",
       "4  Early 80's  Some say Love It is a river That drowns the te...   \n",
       "\n",
       "   compress_len  original_len  compress_score  \n",
       "0           461          1137        0.594547  \n",
       "1           399           898        0.555679  \n",
       "2           439           889        0.506187  \n",
       "3           481          1044        0.539272  \n",
       "4           370           700        0.471429  "
      ]
     },
     "execution_count": 328,
     "metadata": {},
     "output_type": "execute_result"
    }
   ],
   "source": [
    "df.head()"
   ]
  },
  {
   "cell_type": "code",
   "execution_count": 331,
   "metadata": {},
   "outputs": [
    {
     "data": {
      "image/png": "[encoded data removed]",
      "text/plain": [
       "<Figure size 432x288 with 1 Axes>"
      ]
     },
     "metadata": {},
     "output_type": "display_data"
    }
   ],
   "source": [
    "import matplotlib.pyplot as plt\n",
    "\n",
    "df.compress_score.plot()\n",
    "\n",
    "plt.show()"
   ]
  },
  {
   "cell_type": "code",
   "execution_count": 332,
   "metadata": {},
   "outputs": [
    {
     "data": {
      "text/plain": [
       "<matplotlib.axes._subplots.AxesSubplot at 0x1c6a608ee80>"
      ]
     },
     "execution_count": 332,
     "metadata": {},
     "output_type": "execute_result"
    },
    {
     "data": {
      "image/png": "[encoded data removed]",
      "text/plain": [
       "<Figure size 432x288 with 1 Axes>"
      ]
     },
     "metadata": {},
     "output_type": "display_data"
    }
   ],
   "source": [
    "df.compress_score.hist()"
   ]
  },
  {
   "cell_type": "code",
   "execution_count": 335,
   "metadata": {},
   "outputs": [
    {
     "data": {
      "text/plain": [
       "<matplotlib.axes._subplots.AxesSubplot at 0x1c6a602c080>"
      ]
     },
     "execution_count": 335,
     "metadata": {},
     "output_type": "execute_result"
    },
    {
     "data": {
      "image/png": "[encoded data removed]",
      "text/plain": [
       "<Figure size 432x288 with 1 Axes>"
      ]
     },
     "metadata": {},
     "output_type": "display_data"
    }
   ],
   "source": [
    "df.groupby(\"Year\").mean()[\"compress_score\"].plot()"
   ]
  },
  {
   "cell_type": "code",
   "execution_count": 282,
   "metadata": {},
   "outputs": [
    {
     "name": "stdout",
     "output_type": "stream",
     "text": [
      "0\n",
      "0.5725593667546174\n",
      "1\n",
      "0.5278396436525612\n",
      "2\n",
      "0.48931383577052867\n",
      "3\n",
      "0.5258620689655172\n",
      "4\n",
      "0.4542857142857143\n",
      "5\n",
      "0.5191956124314442\n",
      "6\n",
      "0.4411302982731554\n",
      "7\n",
      "0.47496947496947495\n",
      "8\n",
      "0.5018587360594795\n",
      "9\n",
      "0.5350746268656716\n",
      "10\n",
      "0.5644891122278057\n",
      "11\n",
      "0.5425616547334925\n",
      "12\n",
      "0.594577553593947\n",
      "13\n",
      "0.5074257425742574\n",
      "14\n"
     ]
    },
    {
     "ename": "KeyError",
     "evalue": "'�'",
     "output_type": "error",
     "traceback": [
      "\u001b[1;31m---------------------------------------------------------------------------\u001b[0m",
      "\u001b[1;31mKeyError\u001b[0m                                  Traceback (most recent call last)",
      "\u001b[1;32m<ipython-input-282-a7ed5b55b29d>\u001b[0m in \u001b[0;36m<module>\u001b[1;34m()\u001b[0m\n\u001b[0;32m      2\u001b[0m \u001b[1;32mfor\u001b[0m \u001b[0mlyrics\u001b[0m \u001b[1;32min\u001b[0m \u001b[0mdf\u001b[0m\u001b[1;33m[\u001b[0m\u001b[1;34m'Lyrics'\u001b[0m\u001b[1;33m]\u001b[0m\u001b[1;33m:\u001b[0m\u001b[1;33m\u001b[0m\u001b[0m\n\u001b[0;32m      3\u001b[0m     \u001b[0mprint\u001b[0m\u001b[1;33m(\u001b[0m\u001b[0mx\u001b[0m\u001b[1;33m)\u001b[0m\u001b[1;33m\u001b[0m\u001b[0m\n\u001b[1;32m----> 4\u001b[1;33m     \u001b[0mcompressed\u001b[0m\u001b[1;33m=\u001b[0m\u001b[0mcompress\u001b[0m\u001b[1;33m(\u001b[0m\u001b[0mlyrics\u001b[0m\u001b[1;33m)\u001b[0m\u001b[1;33m\u001b[0m\u001b[0m\n\u001b[0m\u001b[0;32m      5\u001b[0m     \u001b[1;31m#how many symbols are used to represent the compressed file\u001b[0m\u001b[1;33m\u001b[0m\u001b[1;33m\u001b[0m\u001b[0m\n\u001b[0;32m      6\u001b[0m     \u001b[0mcompressed\u001b[0m\u001b[1;33m=\u001b[0m\u001b[1;33m(\u001b[0m\u001b[0mlen\u001b[0m\u001b[1;33m(\u001b[0m\u001b[0mcompressed\u001b[0m\u001b[1;33m)\u001b[0m\u001b[1;33m)\u001b[0m\u001b[1;33m\u001b[0m\u001b[0m\n",
      "\u001b[1;32m<ipython-input-280-c83f4d071994>\u001b[0m in \u001b[0;36mcompress\u001b[1;34m(uncompressed)\u001b[0m\n\u001b[0;32m     34\u001b[0m     \u001b[1;31m# Output the code for w.\u001b[0m\u001b[1;33m\u001b[0m\u001b[1;33m\u001b[0m\u001b[0m\n\u001b[0;32m     35\u001b[0m     \u001b[1;32mif\u001b[0m \u001b[0mword\u001b[0m\u001b[1;33m:\u001b[0m\u001b[1;33m\u001b[0m\u001b[0m\n\u001b[1;32m---> 36\u001b[1;33m         \u001b[0mresult\u001b[0m\u001b[1;33m.\u001b[0m\u001b[0mappend\u001b[0m\u001b[1;33m(\u001b[0m\u001b[0mdictionary\u001b[0m\u001b[1;33m[\u001b[0m\u001b[0mword\u001b[0m\u001b[1;33m]\u001b[0m\u001b[1;33m)\u001b[0m\u001b[1;33m\u001b[0m\u001b[0m\n\u001b[0m\u001b[0;32m     37\u001b[0m \u001b[1;31m#         try:\u001b[0m\u001b[1;33m\u001b[0m\u001b[1;33m\u001b[0m\u001b[0m\n\u001b[0;32m     38\u001b[0m \u001b[1;31m#             result.append(dictionary[word])\u001b[0m\u001b[1;33m\u001b[0m\u001b[1;33m\u001b[0m\u001b[0m\n",
      "\u001b[1;31mKeyError\u001b[0m: '�'"
     ]
    }
   ],
   "source": [
    "x=0\n",
    "for lyrics in df['Lyrics']:\n",
    "    print(x)\n",
    "    compressed=compress(lyrics)\n",
    "    #how many symbols are used to represent the compressed file\n",
    "    compressed=(len(compressed))\n",
    "    #print(compressed)\n",
    "    #how many symbols are used to represent the original file\n",
    "    original_size=len(lyrics)\n",
    "    #print(original_size)\n",
    "    #the compression score is the percent of compressed size compared to the original file\n",
    "    compressed_score= ((original_size-compressed)/(original_size))\n",
    "    print(compressed_score)\n",
    "    compression_list.append(compressed_score)\n",
    "    x= x+1"
   ]
  },
  {
   "cell_type": "code",
   "execution_count": 267,
   "metadata": {},
   "outputs": [
    {
     "data": {
      "text/plain": [
       "[0.5725593667546174,\n",
       " 0.5278396436525612,\n",
       " 0.48931383577052867,\n",
       " 0.5258620689655172,\n",
       " 0.4542857142857143,\n",
       " 0.5191956124314442,\n",
       " 0.4411302982731554,\n",
       " 0.47496947496947495,\n",
       " 0.5018587360594795,\n",
       " 0.5350746268656716,\n",
       " 0.5644891122278057,\n",
       " 0.5425616547334925,\n",
       " 0.594577553593947,\n",
       " 0.5074257425742574,\n",
       " 0.19052803483941208,\n",
       " 0.6130909090909091,\n",
       " 0.5925766076823479,\n",
       " 0.5188356164383562,\n",
       " 0.4732423924449108,\n",
       " 0.5744985673352435,\n",
       " 0.5646706586826348,\n",
       " 0.46674057649667405,\n",
       " 0.5010121457489879,\n",
       " 0.5278969957081545,\n",
       " 0.5247933884297521,\n",
       " 0.5311453449430676,\n",
       " 0.5113043478260869,\n",
       " 0.5682656826568265,\n",
       " 0.5704419889502762,\n",
       " 0.6250666666666667,\n",
       " 0.5402397260273972,\n",
       " 0.43291839557399725,\n",
       " 0.5081029551954243,\n",
       " 0.5107260726072608,\n",
       " 0.5398579321231255,\n",
       " 0.4699612403100775,\n",
       " 0.4841571609632446,\n",
       " 0.5809108527131783,\n",
       " 0.5270972531551597,\n",
       " 0.5775907417148869,\n",
       " 0.10102489019033675,\n",
       " 0.5293586269196026,\n",
       " 0.6184767277856136,\n",
       " 0.6254763200870985,\n",
       " 0.5429951690821256,\n",
       " 0.6063321385902031,\n",
       " 0.5468986384266263,\n",
       " 0.5114107883817427,\n",
       " 0.51105216622458,\n",
       " 0.5470383275261324,\n",
       " 0.5919629057187017,\n",
       " 0.5567099567099567,\n",
       " 0.4958139534883721,\n",
       " 0.506578947368421,\n",
       " 0.5514285714285714,\n",
       " 0.0,\n",
       " 0.4688888888888889,\n",
       " 0.6014598540145986,\n",
       " 0.512998266897747,\n",
       " 0.5297450424929179,\n",
       " 0.5753796095444685,\n",
       " 0.029197080291970802,\n",
       " 0.5873563218390805,\n",
       " 0.5103270223752151,\n",
       " 0.5553763440860215,\n",
       " 0.0773405698778833,\n",
       " 0.43091655266757867,\n",
       " 0.5078459343794579,\n",
       " 0.5645363408521303,\n",
       " 0.6400486420753952,\n",
       " 0.5561139028475712,\n",
       " 0.38541033434650457,\n",
       " 0.5716272600834492,\n",
       " 0.5132530120481927,\n",
       " 0.5494417862838915,\n",
       " 0.5791783007578779,\n",
       " 0.64336697021905,\n",
       " 0.5494003426613364,\n",
       " 0.5797752808988764,\n",
       " 0.48859416445623344,\n",
       " 0.0017094017094017094,\n",
       " 0.5615536537195523,\n",
       " 0.591157476403378,\n",
       " 0.5205479452054794,\n",
       " 0.5982465188241362,\n",
       " 0.54006734006734,\n",
       " 0.5027863777089784,\n",
       " 0.5811732605729877,\n",
       " 0.5743287491814014,\n",
       " 0.534020618556701,\n",
       " 0.5221101629169899,\n",
       " 0.5393600812595226,\n",
       " 0.5825825825825826,\n",
       " 0.5564853556485355,\n",
       " 0.5785597381342062,\n",
       " 0.5785070785070785,\n",
       " 0.5121338912133891,\n",
       " 0.5414993306559571,\n",
       " 0.4782146652497343,\n",
       " 0.5630007283321194,\n",
       " 0.5071729957805907,\n",
       " 0.015078407720144753,\n",
       " 0.5508565310492506,\n",
       " 0.46028513238289204,\n",
       " 0.5230769230769231,\n",
       " 0.5754646840148699,\n",
       " 0.5754646840148699,\n",
       " 0.6461359674607786,\n",
       " 0.0843263061411549,\n",
       " 0.5040946314831665,\n",
       " 0.5640569395017794,\n",
       " 0.6005349977708426,\n",
       " 0.5651070003627131,\n",
       " 0.5823874755381605,\n",
       " 0.5277777777777778,\n",
       " 0.5799086757990868,\n",
       " 0.5620139173147769,\n",
       " 0.03333333333333333,\n",
       " 0.631946464940355,\n",
       " 0.5946862634256642,\n",
       " 0.5798406650502251,\n",
       " 0.5343283582089552,\n",
       " 0.5610510046367851,\n",
       " 0.5279329608938548,\n",
       " 0.5955451348182884]"
      ]
     },
     "execution_count": 267,
     "metadata": {},
     "output_type": "execute_result"
    }
   ],
   "source": [
    "compression_list"
   ]
  },
  {
   "cell_type": "code",
   "execution_count": null,
   "metadata": {},
   "outputs": [],
   "source": [
    "pd.to_sql"
   ]
  }
 ],
 "metadata": {
  "kernelspec": {
   "display_name": "Python 3",
   "language": "python",
   "name": "python3"
  },
  "language_info": {
   "codemirror_mode": {
    "name": "ipython",
    "version": 3
   },
   "file_extension": ".py",
   "mimetype": "text/x-python",
   "name": "python",
   "nbconvert_exporter": "python",
   "pygments_lexer": "ipython3",
   "version": "3.6.5"
  }
 },
 "nbformat": 4,
 "nbformat_minor": 2
}
